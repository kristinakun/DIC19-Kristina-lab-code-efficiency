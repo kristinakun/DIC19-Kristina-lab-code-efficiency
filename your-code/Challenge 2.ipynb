{
 "cells": [
  {
   "cell_type": "markdown",
   "metadata": {},
   "source": [
    "# Challenge 2"
   ]
  },
  {
   "cell_type": "markdown",
   "metadata": {},
   "source": [
    "The code below generates a given number of random strings that consists of numbers and \n",
    "lower case English letters. You can also define the range of the variable lengths of\n",
    "the strings being generated.\n",
    "\n",
    "The code is functional but has a lot of room for improvement. Use what you have learned\n",
    "about simple and efficient code, refactor the code."
   ]
  },
  {
   "cell_type": "code",
   "execution_count": null,
   "metadata": {},
   "outputs": [],
   "source": [
    "def RandomStringGenerator(l=12, a=['a','b','c','d','e','f','g','h','i','j','k','l','m','n','o','p','q','r','s','t','u','v','w','x','y','z','0','1','2','3','4','5','6','7','8','9']):\n",
    "    p = 0\n",
    "    s = ''\n",
    "    while p<l:\n",
    "        import random\n",
    "        s += random.choice(a)\n",
    "        p += 1\n",
    "    return s"
   ]
  },
  {
   "cell_type": "code",
   "execution_count": null,
   "metadata": {},
   "outputs": [],
   "source": [
    "def BatchStringGenerator(n, a=8, b=12):\n",
    "    r = []\n",
    "    for i in range(n):\n",
    "        c = None\n",
    "        if a < b:\n",
    "            import random\n",
    "            c = random.choice(range(a, b))\n",
    "        elif a == b:\n",
    "            c = a\n",
    "        else:\n",
    "            import sys\n",
    "            sys.exit('Incorrect min and max string lengths. Try again.')\n",
    "        r.append(RandomStringGenerator(c))\n",
    "    return r"
   ]
  },
  {
   "cell_type": "code",
   "execution_count": null,
   "metadata": {},
   "outputs": [],
   "source": [
    "a = input('Enter minimum string length: ')\n",
    "b = input('Enter maximum string length: ')\n",
    "n = input('How many random strings to generate? ')\n",
    "\n",
    "print(BatchStringGenerator(int(n), int(a), int(b)))"
   ]
  },
  {
   "cell_type": "markdown",
   "metadata": {},
   "source": [
    "## Improved"
   ]
  },
  {
   "cell_type": "code",
   "execution_count": 1,
   "metadata": {},
   "outputs": [],
   "source": [
    "#changed variables to meaningful names in both functions\n",
    "#the long list of elements is now printed in 3 lines to see all elements\n",
    "#importing libraries at the top to clearly see them\n",
    "\n",
    "import random\n",
    "import sys\n",
    "\n",
    "def RandomStringGenerator(string_len, elements=['a','b','c','d','e','f','g','h','i','j','k','l','m',\n",
    "                                               'n','o','p','q','r','s','t','u','v','w','x','y','z',\n",
    "                                                '0','1','2','3','4','5','6','7','8','9']):\n",
    "#adding function description\n",
    "    \n",
    "    \"\"\"\n",
    "    Function generates one random string containing numbers and letters\n",
    "    Adding element by element and generating randomly till reaches the given string length\n",
    "    \n",
    "    input:\n",
    "        - string_len: the length of a string: integer or a range\n",
    "        - elements: the list of letters and numbers\n",
    "    output:\n",
    "        - string: randomly generated string\n",
    "    \"\"\"\n",
    "    counter = 0\n",
    "    string = ''\n",
    "#adding space between '<'\n",
    "    while counter < string_len:\n",
    "        import random\n",
    "        string += random.choice(elements)\n",
    "        counter += 1\n",
    "    return string"
   ]
  },
  {
   "cell_type": "code",
   "execution_count": 2,
   "metadata": {},
   "outputs": [],
   "source": [
    "#unified variable names between both functions, c changed to string_len, so that could use it in the function above\n",
    "\n",
    "def BatchStringGenerator(number_of_strings, min_len, max_len):\n",
    "\n",
    "#adding function description    \n",
    "    \"\"\"\n",
    "    Function generates the list of a given number random strings containing numbers and letters\n",
    "    \n",
    "    input:\n",
    "        - number_of_strings: number of strings - integer\n",
    "        - min_len: min length of the string - integer\n",
    "        - max_len: max length of the string - integer\n",
    "    output:\n",
    "        - list_strings: randomly generated list of strings - list\n",
    "    \"\"\"\n",
    "    list_strings = []\n",
    "    \n",
    "#changed variable i to times, to define that will be looping x times dependign on the range\n",
    "    \n",
    "    for times in range(number_of_strings):\n",
    "#deleted string_len = None, not doing anything in the function\n",
    "        if min_len < max_len:\n",
    "            string_len = random.choice(range(min_len, max_len))\n",
    "        elif min_len == max_len:\n",
    "            string_len = min_len\n",
    "        else:\n",
    "            sys.exit('Incorrect min and max string lengths. Try again.')\n",
    "        list_strings.append(RandomStringGenerator(string_len))\n",
    "    return list_strings\n",
    "\n"
   ]
  },
  {
   "cell_type": "code",
   "execution_count": 5,
   "metadata": {},
   "outputs": [
    {
     "name": "stdout",
     "output_type": "stream",
     "text": [
      "Enter minimum string length: 3\n",
      "Enter maximum string length: 6\n",
      "How many random strings to generate? 7\n"
     ]
    },
    {
     "data": {
      "text/plain": [
       "['g1rv', 'awdf', 'cpb', 'zf4', '5ehbn', 'jao', 'x0pp']"
      ]
     },
     "execution_count": 5,
     "metadata": {},
     "output_type": "execute_result"
    }
   ],
   "source": [
    "min_len = int(input('Enter minimum string length: '))\n",
    "max_len = int(input('Enter maximum string length: '))\n",
    "number_of_strings = int(input('How many random strings to generate? '))\n",
    "\n",
    "BatchStringGenerator(number_of_strings, min_len, max_len)"
   ]
  }
 ],
 "metadata": {
  "kernelspec": {
   "display_name": "Python 3",
   "language": "python",
   "name": "python3"
  },
  "language_info": {
   "codemirror_mode": {
    "name": "ipython",
    "version": 3
   },
   "file_extension": ".py",
   "mimetype": "text/x-python",
   "name": "python",
   "nbconvert_exporter": "python",
   "pygments_lexer": "ipython3",
   "version": "3.7.4"
  }
 },
 "nbformat": 4,
 "nbformat_minor": 2
}
