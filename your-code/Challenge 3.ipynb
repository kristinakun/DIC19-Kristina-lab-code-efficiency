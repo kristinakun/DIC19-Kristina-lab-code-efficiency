{
 "cells": [
  {
   "cell_type": "markdown",
   "metadata": {},
   "source": [
    "# Challenge 3"
   ]
  },
  {
   "cell_type": "markdown",
   "metadata": {},
   "source": [
    "You are presented with an integer number larger than 5. Your goal is to identify the longest side\n",
    "possible in a right triangle whose sides are not longer than the number you are given.\n",
    "\n",
    "For example, if you are given the number 15, there are 3 possibilities to compose right triangles:\n",
    "\n",
    "1. [3, 4, 5]\n",
    "2. [6, 8, 10]\n",
    "3. [5, 12, 13]\n",
    "\n",
    "The following function shows one way to solve the problem but the code is not ideal or efficient.\n",
    "Refactor the code based on what you have learned about code simplicity and efficiency."
   ]
  },
  {
   "cell_type": "code",
   "execution_count": null,
   "metadata": {},
   "outputs": [],
   "source": [
    "def my_function(X):\n",
    "    solutions = []\n",
    "    for x in range(5, X):\n",
    "        for y in range(4, X):\n",
    "            for z in range(3, X):\n",
    "                if (x*x==y*y+z*z):\n",
    "                    solutions.append([x, y, z])\n",
    "    m = 0\n",
    "    for solution in solutions:\n",
    "        if m < max(solution):\n",
    "            m = max(solution)\n",
    "    return m\n",
    "\n",
    "X = input(\"What is the maximal length of the triangle side? Enter a number: \")\n",
    "\n",
    "print(\"The longest side possible is \" + str(my_function(int(X))))"
   ]
  },
  {
   "cell_type": "markdown",
   "metadata": {},
   "source": [
    "## Improved"
   ]
  },
  {
   "cell_type": "code",
   "execution_count": 29,
   "metadata": {},
   "outputs": [
    {
     "name": "stdout",
     "output_type": "stream",
     "text": [
      "What is the maximal length of the triangle side? Enter a number: 45\n",
      "The longest side possible is 44\n"
     ]
    }
   ],
   "source": [
    "#changing variables to meaningful names\n",
    "#changing the function name so that it would make sense: longest_tirangle_side\n",
    "#importing math to later use it in the function\n",
    "\n",
    "import math\n",
    "\n",
    "def longest_tirangle_side(max_len):\n",
    "#adding function description\n",
    "    \n",
    "    \"\"\"\n",
    "    Function returns the longest side possible in a right triangle whose sides are not longer than the given number\n",
    "    input:\n",
    "        - max_len: number\n",
    "    output:\n",
    "        - longest_side: The longest side possible of the right triangle\n",
    "    \"\"\"\n",
    "    \n",
    "#changing all to list comprehension\n",
    "#changing formula to use math.sqrt()\n",
    "    solutions = [[num1, num2, num3] for num1 in range(5, max_len) for num2 in range(4, max_len) \n",
    "                 for num3 in range(3, max_len) if num1==math.sqrt(num2+num3)]\n",
    "    longest_side = [max(solution) for solution in solutions]\n",
    "    return max(longest_side)\n",
    "\n",
    "#changing the input to integer already in the input \n",
    "max_len = int(input(\"What is the maximal length of the triangle side? Enter a number: \"))\n",
    "\n",
    "#changing print to 'f print'\n",
    "print(f'The longest side possible is {longest_tirangle_side(max_len)}')"
   ]
  }
 ],
 "metadata": {
  "kernelspec": {
   "display_name": "Python 3",
   "language": "python",
   "name": "python3"
  },
  "language_info": {
   "codemirror_mode": {
    "name": "ipython",
    "version": 3
   },
   "file_extension": ".py",
   "mimetype": "text/x-python",
   "name": "python",
   "nbconvert_exporter": "python",
   "pygments_lexer": "ipython3",
   "version": "3.7.4"
  }
 },
 "nbformat": 4,
 "nbformat_minor": 2
}
